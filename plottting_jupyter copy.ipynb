{
 "cells": [
  {
   "cell_type": "code",
   "execution_count": 2,
   "metadata": {},
   "outputs": [],
   "source": [
    "import numpy as np\n",
    "import matplotlib.pyplot as plt"
   ]
  },
  {
   "cell_type": "markdown",
   "metadata": {},
   "source": [
    "# Functions"
   ]
  },
  {
   "cell_type": "code",
   "execution_count": 5,
   "metadata": {},
   "outputs": [],
   "source": [
    "def rolling_average(arr, ROLLING_WINDOW_SIZE):\n",
    "    cumsum = arr.cumsum()\n",
    "    cumsum[ROLLING_WINDOW_SIZE:] -= cumsum[:-ROLLING_WINDOW_SIZE]\n",
    "    return np.array((cumsum[ROLLING_WINDOW_SIZE - 1:] / ROLLING_WINDOW_SIZE))"
   ]
  },
  {
   "cell_type": "code",
   "execution_count": 6,
   "metadata": {},
   "outputs": [],
   "source": [
    "def plot_avg_std(color,array,start,end,gamma):\n",
    "    \n",
    "    data = np.array(array[start:end])\n",
    "    mean = np.mean(data, axis=0)\n",
    "    std_dev = np.std(data, axis=0)\n",
    "    \n",
    "    iteration = np.arange(len(mean))\n",
    "    \n",
    "    plt.plot(iteration, mean, label=rf'$\\gamma$ = {gamma}', color=color, lw=2)\n",
    "    # plt.fill_between(iteration, mean - std_dev, mean + std_dev, color=color, alpha=0.2)\n",
    "    \n",
    "    plt.xlabel('Epochs', fontsize=14)\n",
    "    plt.ylabel('Cumulative Reward', fontsize=14)\n",
    "    plt.xticks(fontsize=14)\n",
    "    plt.yticks(fontsize=14)\n",
    "\n",
    "    plt.grid(True, linestyle='--', alpha=0.7)\n",
    "    plt.legend(fontsize=14, loc='lower right')\n",
    "    plt.minorticks_on()\n",
    "    plt.tick_params(axis='both', which='minor', length=4, color='gray', labelsize=14)\n",
    "    plt.tick_params(axis='both', which='major', length=6, color='black', labelsize=14)\n",
    "    plt.tick_params(top=True, right=True, direction='in', length=6)\n",
    "    plt.tick_params(which='minor', top=True, right=True, direction='in', length=4)\n",
    "    plt.savefig('varying_gamma_no_sd.pdf')"
   ]
  },
  {
   "cell_type": "code",
   "execution_count": 9,
   "metadata": {},
   "outputs": [],
   "source": [
    "def load_cumreward_data(parameter_name, values, runs=np.arange(1,10+1)):\n",
    "    filepaths = [f\"cumulative_rewards/cumulative_rewards_{i}_{parameter_name}_{j}.npy\" for i in runs for j in values]\n",
    "    cumrewards = [np.load(path) for path in filepaths]\n",
    "    return np.array(cumrewards)"
   ]
  },
  {
   "cell_type": "markdown",
   "metadata": {},
   "source": [
    "# Loading Data"
   ]
  },
  {
   "cell_type": "code",
   "execution_count": 3,
   "metadata": {},
   "outputs": [],
   "source": [
    "sample_size=10\n",
    "runs=range(1,sample_size+1)\n",
    "\n",
    "alphas=[0.01,0.05,0.1]\n",
    "epsdecays = [0.01,0.001,0.0001]\n",
    "gammas = [0.1,0.5,0.9]"
   ]
  },
  {
   "cell_type": "code",
   "execution_count": 10,
   "metadata": {},
   "outputs": [],
   "source": [
    "alpha_cumrewards = load_cumreward_data('alpha', alphas)\n",
    "epsdecay_cumrewards = load_cumreward_data('epsdecay', epsdecays)\n",
    "gamma_cumrewards = load_cumreward_data('gamma', gammas)"
   ]
  },
  {
   "cell_type": "markdown",
   "metadata": {},
   "source": [
    "# Plotting"
   ]
  },
  {
   "cell_type": "code",
   "execution_count": null,
   "metadata": {},
   "outputs": [],
   "source": []
  }
 ],
 "metadata": {
  "kernelspec": {
   "display_name": "phys4038",
   "language": "python",
   "name": "python3"
  },
  "language_info": {
   "codemirror_mode": {
    "name": "ipython",
    "version": 3
   },
   "file_extension": ".py",
   "mimetype": "text/x-python",
   "name": "python",
   "nbconvert_exporter": "python",
   "pygments_lexer": "ipython3",
   "version": "3.10.8"
  }
 },
 "nbformat": 4,
 "nbformat_minor": 2
}
